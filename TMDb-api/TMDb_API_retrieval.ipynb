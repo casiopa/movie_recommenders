{
 "cells": [
  {
   "cell_type": "code",
   "execution_count": 97,
   "id": "e6848a1e-2eba-494b-ae94-c2560c95e019",
   "metadata": {},
   "outputs": [],
   "source": [
    "import pandas as pd\n",
    "import requests\n",
    "import time\n",
    "from credentials import *"
   ]
  },
  {
   "cell_type": "code",
   "execution_count": 94,
   "id": "b121bd73-97e4-4e94-a430-4e58e8bc2bc3",
   "metadata": {},
   "outputs": [
    {
     "name": "stdout",
     "output_type": "stream",
     "text": [
      "Number of movies: 45466\n"
     ]
    }
   ],
   "source": [
    "path = '../data/MoviesDataset/'\n",
    "poster_path_tmdb = 'https://image.tmdb.org/t/p/w500'\n",
    "\n",
    "df = pd.read_csv(path + '/movies_metadata.csv', low_memory=False)\n",
    "\n",
    "ids = df.id.to_list()\n",
    "\n",
    "url = 'https://api.themoviedb.org/3/movie/'\n",
    "language = '&language=en-US'\n",
    "\n",
    "print('Number of movies:', len(ids))"
   ]
  },
  {
   "cell_type": "markdown",
   "id": "e7f722b1-2605-42d9-a3b5-a3838daf3837",
   "metadata": {},
   "source": [
    "# Update movies from TMDb API\n",
    "In order to update the variables `post_path` and `imdb_id` from `movies_metadata.csv` we are going to retrieve the details of this pictures again, on 10/12/2021."
   ]
  },
  {
   "cell_type": "code",
   "execution_count": 3,
   "id": "46a28bef-ba46-4c76-9f6a-1f60582cf1d7",
   "metadata": {},
   "outputs": [
    {
     "data": {
      "text/html": [
       "<div>\n",
       "<style scoped>\n",
       "    .dataframe tbody tr th:only-of-type {\n",
       "        vertical-align: middle;\n",
       "    }\n",
       "\n",
       "    .dataframe tbody tr th {\n",
       "        vertical-align: top;\n",
       "    }\n",
       "\n",
       "    .dataframe thead th {\n",
       "        text-align: right;\n",
       "    }\n",
       "</style>\n",
       "<table border=\"1\" class=\"dataframe\">\n",
       "  <thead>\n",
       "    <tr style=\"text-align: right;\">\n",
       "      <th></th>\n",
       "      <th>adult</th>\n",
       "      <th>backdrop_path</th>\n",
       "      <th>belongs_to_collection</th>\n",
       "      <th>budget</th>\n",
       "      <th>genres</th>\n",
       "      <th>homepage</th>\n",
       "      <th>id</th>\n",
       "      <th>imdb_id</th>\n",
       "      <th>original_language</th>\n",
       "      <th>original_title</th>\n",
       "      <th>...</th>\n",
       "      <th>release_date</th>\n",
       "      <th>revenue</th>\n",
       "      <th>runtime</th>\n",
       "      <th>spoken_languages</th>\n",
       "      <th>status</th>\n",
       "      <th>tagline</th>\n",
       "      <th>title</th>\n",
       "      <th>video</th>\n",
       "      <th>vote_average</th>\n",
       "      <th>vote_count</th>\n",
       "    </tr>\n",
       "  </thead>\n",
       "  <tbody>\n",
       "    <tr>\n",
       "      <th>0</th>\n",
       "      <td>False</td>\n",
       "      <td>/3Rfvhy1Nl6sSGJwyjb0QiZzZYlB.jpg</td>\n",
       "      <td>{'id': 10194, 'name': 'Toy Story Collection', ...</td>\n",
       "      <td>30000000</td>\n",
       "      <td>[{'id': 16, 'name': 'Animation'}, {'id': 12, '...</td>\n",
       "      <td>http://toystory.disney.com/toy-story</td>\n",
       "      <td>862</td>\n",
       "      <td>tt0114709</td>\n",
       "      <td>en</td>\n",
       "      <td>Toy Story</td>\n",
       "      <td>...</td>\n",
       "      <td>1995-10-30</td>\n",
       "      <td>373554033</td>\n",
       "      <td>81</td>\n",
       "      <td>[{'english_name': 'English', 'iso_639_1': 'en'...</td>\n",
       "      <td>Released</td>\n",
       "      <td></td>\n",
       "      <td>Toy Story</td>\n",
       "      <td>False</td>\n",
       "      <td>8.0</td>\n",
       "      <td>14752</td>\n",
       "    </tr>\n",
       "  </tbody>\n",
       "</table>\n",
       "<p>1 rows × 25 columns</p>\n",
       "</div>"
      ],
      "text/plain": [
       "   adult                     backdrop_path  \\\n",
       "0  False  /3Rfvhy1Nl6sSGJwyjb0QiZzZYlB.jpg   \n",
       "\n",
       "                               belongs_to_collection    budget  \\\n",
       "0  {'id': 10194, 'name': 'Toy Story Collection', ...  30000000   \n",
       "\n",
       "                                              genres  \\\n",
       "0  [{'id': 16, 'name': 'Animation'}, {'id': 12, '...   \n",
       "\n",
       "                               homepage   id    imdb_id original_language  \\\n",
       "0  http://toystory.disney.com/toy-story  862  tt0114709                en   \n",
       "\n",
       "  original_title  ... release_date    revenue runtime  \\\n",
       "0      Toy Story  ...   1995-10-30  373554033      81   \n",
       "\n",
       "                                    spoken_languages    status tagline  \\\n",
       "0  [{'english_name': 'English', 'iso_639_1': 'en'...  Released           \n",
       "\n",
       "       title  video vote_average vote_count  \n",
       "0  Toy Story  False          8.0      14752  \n",
       "\n",
       "[1 rows x 25 columns]"
      ]
     },
     "execution_count": 3,
     "metadata": {},
     "output_type": "execute_result"
    }
   ],
   "source": [
    "# Create dataframe\n",
    "url_total = url + str(ids[0]) + '?api_key=' + tmdb_api_key + language\n",
    "\n",
    "response = requests.get(url_total)\n",
    "\n",
    "if response.status_code == 200:\n",
    "    movies = pd.DataFrame.from_dict(response.json(), orient='index').T\n",
    "\n",
    "movies"
   ]
  },
  {
   "cell_type": "code",
   "execution_count": 4,
   "id": "1cf8d407-165d-47b7-8943-f3868c13284a",
   "metadata": {
    "tags": []
   },
   "outputs": [
    {
     "name": "stdout",
     "output_type": "stream",
     "text": [
      "0 seconds -> i: 0\n",
      "333 seconds -> i: 2500\n",
      "932 seconds -> i: 5000\n",
      "1554 seconds -> i: 7500\n",
      "2111 seconds -> i: 10000\n",
      "2637 seconds -> i: 12500\n",
      "3172 seconds -> i: 15000\n",
      "3688 seconds -> i: 17500\n",
      "4269 seconds -> i: 20000\n",
      "4850 seconds -> i: 22500\n",
      "5594 seconds -> i: 25000\n",
      "6286 seconds -> i: 27500\n",
      "6809 seconds -> i: 30000\n",
      "7321 seconds -> i: 32500\n",
      "7833 seconds -> i: 35000\n",
      "8346 seconds -> i: 37500\n",
      "8881 seconds -> i: 40000\n",
      "9410 seconds -> i: 42500\n",
      "9935 seconds -> i: 45000\n"
     ]
    }
   ],
   "source": [
    "# Retrieve all movies from movies_metadata.csv list and record to DataFrame\n",
    "\n",
    "import time\n",
    "start_time = time.time()\n",
    "\n",
    "for i, id in enumerate(ids[1:]):\n",
    "    url_total = url + str(id) + '?api_key=' + tmdb_api_key + language\n",
    "\n",
    "    response = requests.get(url_total)\n",
    "\n",
    "    if response.status_code == 200:\n",
    "        if i % 2500 == 0:\n",
    "            print(round(time.time() - start_time), 'seconds -> i:', i)\n",
    "        movies = movies.append(pd.DataFrame.from_dict(response.json(), orient='index').T, ignore_index=True)"
   ]
  },
  {
   "cell_type": "code",
   "execution_count": 5,
   "id": "0424646c-8d6e-4df6-808d-7c59d03d74ee",
   "metadata": {},
   "outputs": [
    {
     "data": {
      "text/plain": [
       "(45043, 25)"
      ]
     },
     "execution_count": 5,
     "metadata": {},
     "output_type": "execute_result"
    }
   ],
   "source": [
    "##movies.to_csv('../data/movies_metadata_v2.csv', index=False)\n",
    "##movies.shape"
   ]
  },
  {
   "cell_type": "markdown",
   "id": "7ecb8d1f-5be9-4ac1-ab46-fea20fb6365a",
   "metadata": {},
   "source": [
    "# Retrying the retrieval of missing movies"
   ]
  },
  {
   "cell_type": "code",
   "execution_count": 123,
   "id": "09bd3ec8-0a1b-4ad9-8d35-2fe814fec0d8",
   "metadata": {},
   "outputs": [
    {
     "data": {
      "text/plain": [
       "(45043, 25)"
      ]
     },
     "execution_count": 123,
     "metadata": {},
     "output_type": "execute_result"
    }
   ],
   "source": [
    "df2 = pd.read_csv('../data/movies_metadata_v2.csv', low_memory=False)\n",
    "df2.shape"
   ]
  },
  {
   "cell_type": "code",
   "execution_count": 124,
   "id": "647449a5-e06d-4e07-847f-ab2980acb163",
   "metadata": {},
   "outputs": [
    {
     "data": {
      "text/plain": [
       "425"
      ]
     },
     "execution_count": 124,
     "metadata": {},
     "output_type": "execute_result"
    }
   ],
   "source": [
    "missing_ids = list(set(ids) - set(df2.id.astype('str')))\n",
    "len(missing_ids)"
   ]
  },
  {
   "cell_type": "code",
   "execution_count": 125,
   "id": "347819bd-b778-446b-af63-bda3022796f0",
   "metadata": {},
   "outputs": [
    {
     "data": {
      "text/html": [
       "<div>\n",
       "<style scoped>\n",
       "    .dataframe tbody tr th:only-of-type {\n",
       "        vertical-align: middle;\n",
       "    }\n",
       "\n",
       "    .dataframe tbody tr th {\n",
       "        vertical-align: top;\n",
       "    }\n",
       "\n",
       "    .dataframe thead th {\n",
       "        text-align: right;\n",
       "    }\n",
       "</style>\n",
       "<table border=\"1\" class=\"dataframe\">\n",
       "  <thead>\n",
       "    <tr style=\"text-align: right;\">\n",
       "      <th></th>\n",
       "      <th>adult</th>\n",
       "      <th>backdrop_path</th>\n",
       "      <th>belongs_to_collection</th>\n",
       "      <th>budget</th>\n",
       "      <th>genres</th>\n",
       "      <th>homepage</th>\n",
       "      <th>id</th>\n",
       "      <th>imdb_id</th>\n",
       "      <th>original_language</th>\n",
       "      <th>original_title</th>\n",
       "      <th>...</th>\n",
       "      <th>release_date</th>\n",
       "      <th>revenue</th>\n",
       "      <th>runtime</th>\n",
       "      <th>spoken_languages</th>\n",
       "      <th>status</th>\n",
       "      <th>tagline</th>\n",
       "      <th>title</th>\n",
       "      <th>video</th>\n",
       "      <th>vote_average</th>\n",
       "      <th>vote_count</th>\n",
       "    </tr>\n",
       "  </thead>\n",
       "  <tbody>\n",
       "  </tbody>\n",
       "</table>\n",
       "<p>0 rows × 25 columns</p>\n",
       "</div>"
      ],
      "text/plain": [
       "Empty DataFrame\n",
       "Columns: [adult, backdrop_path, belongs_to_collection, budget, genres, homepage, id, imdb_id, original_language, original_title, overview, popularity, poster_path, production_companies, production_countries, release_date, revenue, runtime, spoken_languages, status, tagline, title, video, vote_average, vote_count]\n",
       "Index: []\n",
       "\n",
       "[0 rows x 25 columns]"
      ]
     },
     "execution_count": 125,
     "metadata": {},
     "output_type": "execute_result"
    }
   ],
   "source": [
    "# Create dictionary for failed attemps\n",
    "failed = {}\n",
    "\n",
    "# Create DataFrame movies\n",
    "url_total = url + '550' + '?api_key=' + tmdb_api_key + language\n",
    "response = requests.get(url_total)\n",
    "if response.status_code == 200:\n",
    "    movies = pd.DataFrame.from_dict(response.json(), orient='index').T\n",
    "\n",
    "movies.drop(0)"
   ]
  },
  {
   "cell_type": "code",
   "execution_count": 126,
   "id": "4e2a2df1-4f90-49d4-8a63-933e8135f848",
   "metadata": {},
   "outputs": [
    {
     "name": "stdout",
     "output_type": "stream",
     "text": [
      "{'12224': 404, '206514': 404, '250880': 404, '60199': 404, '140161': 404, '26397': 404, '32228': 404, '409926': 404, '331501': 404, '367647': 404, '202831': 404, '30496': 404, '373357': 404, '283489': 404, '200664': 404, '324013': 404, '194668': 404, '208947': 404, '249926': 404, '24057': 404, '51768': 404, '390422': 404, '47084': 404, '266314': 404, '263946': 404, '131934': 404, '67493': 404, '67636': 404, '101185': 404, '200549': 404, '18729': 404, '63383': 404, '220903': 404, '7096': 404, '329241': 404, '252063': 404, '94587': 404, '248946': 404, '51129': 404, '57346': 404, '300762': 404, '376823': 404, '38611': 404, '317384': 404, '72093': 404, '54102': 404, '428074': 404, '34202': 404, '58207': 404, '327083': 404, '46813': 404, '278604': 404, '335676': 404, '410774': 404, '106938': 404, '327016': 404, '412103': 404, '28013': 404, '11343': 404, '245170': 404, '458298': 404, '25950': 404, '24486': 404, '56508': 404, '374319': 404, '26787': 404, '29924': 404, '211354': 404, '370014': 404, '176297': 404, '64042': 404, '357125': 404, '18976': 404, '100490': 404, '315010': 404, '395767': 404, '77197': 404, '30146': 404, '31261': 404, '261581': 404, '12450': 404, '67276': 404, '150004': 404, '152426': 404, '206997': 404, '160874': 404, '453062': 404, '407048': 404, '409696': 404, '370722': 404, '393263': 404, '361340': 404, '334057': 404, '419289': 404, '62836': 404, '96451': 404, '110147': 404, '421550': 404, '264321': 404, '174588': 404, '446850': 404, '409820': 404, '153397': 404, '320311': 404, '374247': 404, '61872': 404, '178446': 404, '30294': 404, '452142': 404, '18098': 404, '131433': 404, '268712': 404, '139777': 404, '216035': 404, '159140': 404, '53875': 404, '99254': 404, '30999': 404, '47761': 404, '219466': 404, '125458': 404, '172577': 404, '79833': 404, '13519': 404, '103081': 404, '72094': 404, '25843': 404, '51765': 404, '72095': 404, '134481': 404, '18202': 404, '14301': 404, '294574': 404, '137669': 404, '31183': 404, '11788': 404, '409536': 404, '278468': 404, '374430': 404, '118309': 404, '414937': 404, '134777': 404, '16854': 404, '360626': 404, '425916': 404, '133365': 404, '381519': 404, '401150': 404, '216037': 404, '17632': 404, '76162': 404, '77172': 404, '64047': 404, '201198': 404, '129405': 404, '208988': 404, '197592': 404, '152539': 404, '188521': 404, '144114': 404, '62241': 404, '108879': 404, '56515': 404, '371504': 404, '64679': 404, '218277': 404, '138394': 404, '50942': 404, '25789': 404, '137587': 404, '443113': 404, '13541': 404, '38622': 404, '65990': 404, '57622': 404, '289394': 404, '75604': 404, '155055': 404, '31502': 404, '161535': 404, '243984': 404, '336956': 404, '142051': 404, '168219': 404, '264356': 404, '75018': 404, '310442': 404, '221317': 404, '126820': 404, '8677': 404, '114761': 404, '461805': 404, '265758': 404, '34573': 404, '52236': 404, '74694': 404, '69535': 404, '17800': 404, '416124': 404, '297167': 404, '80527': 404, '149645': 404, '289314': 404, '71461': 404, '141714': 404, '337751': 404, '312497': 404, '25180': 404, '101660': 404, '19792': 404, '43719': 404, '9795': 404, '128733': 404, '86997': 404, '18901': 404, '288977': 404, '24269': 404, '398295': 404, '345575': 404, '202241': 404, '64502': 404, '45988': 404, '36597': 404, '180836': 404, '83191': 404, '25610': 404, '56511': 404, '321640': 404, '47350': 404, '71982': 404, '193976': 404, '136867': 404, '21847': 404, '213755': 404, '241340': 404, '114796': 404, '370353': 404, '192936': 404, '53870': 404, '215993': 404, '38870': 404, '64820': 404, '418772': 404, '266568': 404, '246699': 404, '45330': 404, '60836': 404, '47477': 404, '31446': 404, '30': 404, '357130': 404, '63039': 404, '215999': 404, '180152': 404, '353462': 404, '416988': 404, '15614': 404, '41758': 404, '56512': 404, '117232': 404, '17266': 404, '75926': 404, '189197': 404, '18231': 404, '391997': 404, '341984': 404, '338546': 404, '27934': 404, '19422': 404, '420714': 404, '41522': 404, '47934': 404, '62403': 404, '418979': 404, '60364': 404, '122023': 404, '269797': 404, '65821': 404, '46572': 404, '40593': 404, '85702': 404, '5654': 404, '259634': 404, '3057': 404, '262475': 404, '89049': 404, '440508': 404, '70859': 404, '324017': 404, '211845': 404, '22211': 404, '93734': 404, '56516': 404, '56771': 404, '51247': 404, '45514': 404, '284694': 404, '384130': 404, '244182': 404, '371758': 404, '339749': 404, '27138': 404, '143769': 404, '38430': 404, '140465': 404, '75375': 404, '67488': 404, '17669': 404, '376681': 404, '109515': 404, '65595': 404, '17919': 404, '267795': 404, '293238': 404, '49754': 404, '19350': 404, '203766': 404, '64123': 404, '67866': 404, '11944': 404, '200157': 404, '300544': 404, '281124': 404, '188421': 404, '331214': 404, '263947': 404, '224113': 404, '80617': 404, '378452': 404, '337747': 404, '444623': 404, '200035': 404, '55229': 404, '232005': 404, '53774': 404, '282247': 404, '405627': 404, '24019': 404, '313896': 404, '424643': 404, '198993': 404, '200813': 404, '876': 404, '26920': 404, '257155': 404, '329637': 404, '13905': 404, '268009': 404, '445916': 404, '108497': 404, '99708': 404, '288284': 404, '119372': 404, '183894': 404, '15024': 404, '62931': 404, '162864': 404, '4548': 404, '118013': 404, '65973': 404, '13535': 404, '38626': 404, '168210': 404, '67463': 404, '30922': 404, '58589': 404, '14980': 404, '431490': 404, '293603': 404, '37603': 404, '193380': 404, '129269': 404, '79280': 404, '36663': 404, '14305': 404, '313985': 404, '46121': 404, '49870': 404, '391934': 404, '117408': 404, '407430': 404, '101915': 404, '119431': 404, '31501': 404, '2699': 404, '202043': 404, '115161': 404, '30592': 404, '168643': 404, '44937': 404, '366561': 404, '279558': 404, '51452': 404, '108716': 404, '268771': 404, '192040': 404, '401840': 404, '389396': 404, '430514': 404, '192695': 404, '18884': 404, '373977': 404, '59572': 404, '347938': 404, '69234': 404, '119324': 404, '414632': 404, '36763': 404, '254689': 404, '293471': 404, '400174': 404, '2966': 404, '283691': 404, '333953': 404, '344560': 404, '97414': 404, '140207': 404, '231510': 404, '30983': 404, '46612': 404, '147538': 404, '58923': 404}\n"
     ]
    },
    {
     "data": {
      "text/plain": [
       "(4, 25)"
      ]
     },
     "execution_count": 126,
     "metadata": {},
     "output_type": "execute_result"
    }
   ],
   "source": [
    "#Retrieve all missing movies\n",
    "for id in missing_ids:\n",
    "    url_total = url + str(id) + '?api_key=' + tmdb_api_key + language\n",
    "\n",
    "    response = requests.get(url_total)\n",
    "\n",
    "    if response.status_code == 200:\n",
    "        movies = movies.append(pd.DataFrame.from_dict(response.json(), orient='index').T, ignore_index=True)\n",
    "    else:\n",
    "        failed[id] = response.status_code\n",
    "       \n",
    "print(failed)\n",
    "movies.shape"
   ]
  },
  {
   "cell_type": "code",
   "execution_count": 127,
   "id": "3d8e2972-9a40-4313-a418-ebad99bd21b1",
   "metadata": {},
   "outputs": [],
   "source": [
    "movies = df2.append(movies, ignore_index=True)"
   ]
  },
  {
   "cell_type": "code",
   "execution_count": 143,
   "id": "7577c383-8bb5-47f6-9aed-f29fc66a1995",
   "metadata": {},
   "outputs": [
    {
     "name": "stdout",
     "output_type": "stream",
     "text": [
      "(45000, 25)\n"
     ]
    }
   ],
   "source": [
    "## Drop duplicates\n",
    "movies.drop_duplicates(subset=['imdb_id'], inplace=True)\n",
    "print(movies.shape)\n",
    "\n",
    "movies.to_csv('../data/movies_metadata_v2.csv', index=False)"
   ]
  },
  {
   "cell_type": "code",
   "execution_count": 144,
   "id": "8eed0f36-20e1-4c70-b650-b04357db3d44",
   "metadata": {},
   "outputs": [
    {
     "data": {
      "text/plain": [
       "(45000, 25)"
      ]
     },
     "execution_count": 144,
     "metadata": {},
     "output_type": "execute_result"
    }
   ],
   "source": [
    "df3 = pd.read_csv('../data/movies_metadata_v2.csv', low_memory=False)\n",
    "df3.shape"
   ]
  },
  {
   "cell_type": "code",
   "execution_count": null,
   "id": "84736869-f390-4d37-94e3-3e232b63049d",
   "metadata": {},
   "outputs": [],
   "source": []
  }
 ],
 "metadata": {
  "kernelspec": {
   "display_name": "Python 3",
   "language": "python",
   "name": "python3"
  },
  "language_info": {
   "codemirror_mode": {
    "name": "ipython",
    "version": 3
   },
   "file_extension": ".py",
   "mimetype": "text/x-python",
   "name": "python",
   "nbconvert_exporter": "python",
   "pygments_lexer": "ipython3",
   "version": "3.8.8"
  }
 },
 "nbformat": 4,
 "nbformat_minor": 5
}
