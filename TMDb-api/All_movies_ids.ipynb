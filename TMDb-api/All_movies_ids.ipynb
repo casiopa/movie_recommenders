{
 "cells": [
  {
   "cell_type": "markdown",
   "id": "97c835fe-7fe8-48b2-94b3-a5830df46971",
   "metadata": {},
   "source": [
    "# TMDb Daily Files Exports\n",
    "\n",
    "More info: https://developers.themoviedb.org/3/getting-started/daily-file-exports\n",
    "\n",
    "API: http://files.tmdb.org/p/exports/movie_ids_12_10_2021.json.gz"
   ]
  },
  {
   "cell_type": "code",
   "execution_count": 12,
   "id": "b5471479-6330-496b-855a-440ef3d6eae1",
   "metadata": {},
   "outputs": [],
   "source": [
    "import pandas as pd\n",
    "from ast import literal_eval\n",
    "import json"
   ]
  },
  {
   "cell_type": "code",
   "execution_count": 36,
   "id": "76befc98-a026-4725-9ce1-a847452f2811",
   "metadata": {
    "tags": []
   },
   "outputs": [
    {
     "name": "stdout",
     "output_type": "stream",
     "text": [
      "662472\n"
     ]
    },
    {
     "data": {
      "text/plain": [
       "{'adult': False,\n",
       " 'id': 3924,\n",
       " 'original_title': 'Blondie',\n",
       " 'popularity': 1.751,\n",
       " 'video': False}"
      ]
     },
     "execution_count": 36,
     "metadata": {},
     "output_type": "execute_result"
    }
   ],
   "source": [
    "movies_ids = []\n",
    "with open('movie_ids_12_10_2021.json', 'r', encoding=\"utf8\") as f:\n",
    "    for line in f:\n",
    "        line = literal_eval(line.strip().replace('true', 'True').replace('false', 'False'))\n",
    "        movies_ids.append(line)\n",
    "\n",
    "print(len(movies_ids))\n",
    "movies_ids[0]"
   ]
  },
  {
   "cell_type": "code",
   "execution_count": 38,
   "id": "e566a673-19fc-4174-a860-2ad9061bbf2c",
   "metadata": {},
   "outputs": [
    {
     "data": {
      "text/html": [
       "<div>\n",
       "<style scoped>\n",
       "    .dataframe tbody tr th:only-of-type {\n",
       "        vertical-align: middle;\n",
       "    }\n",
       "\n",
       "    .dataframe tbody tr th {\n",
       "        vertical-align: top;\n",
       "    }\n",
       "\n",
       "    .dataframe thead th {\n",
       "        text-align: right;\n",
       "    }\n",
       "</style>\n",
       "<table border=\"1\" class=\"dataframe\">\n",
       "  <thead>\n",
       "    <tr style=\"text-align: right;\">\n",
       "      <th></th>\n",
       "      <th>adult</th>\n",
       "      <th>id</th>\n",
       "      <th>original_title</th>\n",
       "      <th>popularity</th>\n",
       "      <th>video</th>\n",
       "    </tr>\n",
       "  </thead>\n",
       "  <tbody>\n",
       "    <tr>\n",
       "      <th>0</th>\n",
       "      <td>False</td>\n",
       "      <td>3924</td>\n",
       "      <td>Blondie</td>\n",
       "      <td>1.751</td>\n",
       "      <td>False</td>\n",
       "    </tr>\n",
       "    <tr>\n",
       "      <th>1</th>\n",
       "      <td>False</td>\n",
       "      <td>6124</td>\n",
       "      <td>Der Mann ohne Namen</td>\n",
       "      <td>0.600</td>\n",
       "      <td>False</td>\n",
       "    </tr>\n",
       "    <tr>\n",
       "      <th>2</th>\n",
       "      <td>False</td>\n",
       "      <td>8773</td>\n",
       "      <td>L'amour à vingt ans</td>\n",
       "      <td>3.498</td>\n",
       "      <td>False</td>\n",
       "    </tr>\n",
       "    <tr>\n",
       "      <th>3</th>\n",
       "      <td>False</td>\n",
       "      <td>25449</td>\n",
       "      <td>New World Disorder 9: Never Enough</td>\n",
       "      <td>1.198</td>\n",
       "      <td>False</td>\n",
       "    </tr>\n",
       "    <tr>\n",
       "      <th>4</th>\n",
       "      <td>False</td>\n",
       "      <td>31975</td>\n",
       "      <td>Sesame Street: Elmo Loves You!</td>\n",
       "      <td>0.600</td>\n",
       "      <td>True</td>\n",
       "    </tr>\n",
       "    <tr>\n",
       "      <th>...</th>\n",
       "      <td>...</td>\n",
       "      <td>...</td>\n",
       "      <td>...</td>\n",
       "      <td>...</td>\n",
       "      <td>...</td>\n",
       "    </tr>\n",
       "    <tr>\n",
       "      <th>662467</th>\n",
       "      <td>False</td>\n",
       "      <td>913886</td>\n",
       "      <td>Bigger Is Better</td>\n",
       "      <td>0.000</td>\n",
       "      <td>False</td>\n",
       "    </tr>\n",
       "    <tr>\n",
       "      <th>662468</th>\n",
       "      <td>False</td>\n",
       "      <td>913887</td>\n",
       "      <td>侠义神捕之请君入瓮</td>\n",
       "      <td>0.000</td>\n",
       "      <td>False</td>\n",
       "    </tr>\n",
       "    <tr>\n",
       "      <th>662469</th>\n",
       "      <td>False</td>\n",
       "      <td>913889</td>\n",
       "      <td>侠义神捕之边城迷案</td>\n",
       "      <td>0.000</td>\n",
       "      <td>False</td>\n",
       "    </tr>\n",
       "    <tr>\n",
       "      <th>662470</th>\n",
       "      <td>False</td>\n",
       "      <td>913890</td>\n",
       "      <td>When Worlds Collide</td>\n",
       "      <td>0.000</td>\n",
       "      <td>False</td>\n",
       "    </tr>\n",
       "    <tr>\n",
       "      <th>662471</th>\n",
       "      <td>False</td>\n",
       "      <td>913891</td>\n",
       "      <td>侠吏飞龙之滴水山庄</td>\n",
       "      <td>0.000</td>\n",
       "      <td>False</td>\n",
       "    </tr>\n",
       "  </tbody>\n",
       "</table>\n",
       "<p>662472 rows × 5 columns</p>\n",
       "</div>"
      ],
      "text/plain": [
       "        adult      id                      original_title  popularity  video\n",
       "0       False    3924                             Blondie       1.751  False\n",
       "1       False    6124                 Der Mann ohne Namen       0.600  False\n",
       "2       False    8773                 L'amour à vingt ans       3.498  False\n",
       "3       False   25449  New World Disorder 9: Never Enough       1.198  False\n",
       "4       False   31975      Sesame Street: Elmo Loves You!       0.600   True\n",
       "...       ...     ...                                 ...         ...    ...\n",
       "662467  False  913886                    Bigger Is Better       0.000  False\n",
       "662468  False  913887                           侠义神捕之请君入瓮       0.000  False\n",
       "662469  False  913889                           侠义神捕之边城迷案       0.000  False\n",
       "662470  False  913890                 When Worlds Collide       0.000  False\n",
       "662471  False  913891                           侠吏飞龙之滴水山庄       0.000  False\n",
       "\n",
       "[662472 rows x 5 columns]"
      ]
     },
     "execution_count": 38,
     "metadata": {},
     "output_type": "execute_result"
    }
   ],
   "source": [
    "df = pd.DataFrame(movies_ids)\n",
    "df = df.drop_duplicates(subset=['id'])\n",
    "df"
   ]
  },
  {
   "cell_type": "code",
   "execution_count": null,
   "id": "35ab21be-d050-4dfa-b8f5-bcc921c8b0eb",
   "metadata": {},
   "outputs": [],
   "source": []
  }
 ],
 "metadata": {
  "kernelspec": {
   "display_name": "Python 3",
   "language": "python",
   "name": "python3"
  },
  "language_info": {
   "codemirror_mode": {
    "name": "ipython",
    "version": 3
   },
   "file_extension": ".py",
   "mimetype": "text/x-python",
   "name": "python",
   "nbconvert_exporter": "python",
   "pygments_lexer": "ipython3",
   "version": "3.8.8"
  }
 },
 "nbformat": 4,
 "nbformat_minor": 5
}
